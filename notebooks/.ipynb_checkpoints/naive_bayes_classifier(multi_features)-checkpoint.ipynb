{
 "cells": [
  {
   "cell_type": "code",
   "execution_count": 1,
   "metadata": {},
   "outputs": [],
   "source": [
    "import numpy as np\n",
    "from sklearn import naive_bayes as nb"
   ]
  },
  {
   "cell_type": "code",
   "execution_count": 2,
   "metadata": {},
   "outputs": [],
   "source": [
    "dataset = [[['sunny'],'No'],\n",
    "          [['overcast'],'Yes'],\n",
    "          [['rainy'],'yes'],\n",
    "          [['sunny'],'Yes'],\n",
    "          [['sunny'],'Yes'],\n",
    "          [['overcast'],'Yes'],\n",
    "          [['rainy'],'No'],\n",
    "          [['rainy'],'No'],\n",
    "          [['sunny'],'Yes'],\n",
    "          [['rainy'],'Yes'],\n",
    "          [['sunny'],'No'],\n",
    "          [['overcast'],'Yes'],\n",
    "          [['overcast'],'Yes'],\n",
    "          [['rainy'],'No']]"
   ]
  },
  {
   "cell_type": "code",
   "execution_count": 3,
   "metadata": {},
   "outputs": [],
   "source": [
    "dataset_array = np.asarray(dataset)"
   ]
  },
  {
   "cell_type": "code",
   "execution_count": 5,
   "metadata": {},
   "outputs": [],
   "source": [
    "weather_forecast = ['sunny','rainy','overcast']\n",
    "play = ['No','Yes']"
   ]
  },
  {
   "cell_type": "code",
   "execution_count": 17,
   "metadata": {},
   "outputs": [
    {
     "data": {
      "text/plain": [
       "array([list(['sunny']), list(['overcast']), list(['rainy']),\n",
       "       list(['sunny']), list(['sunny']), list(['overcast']),\n",
       "       list(['rainy']), list(['rainy']), list(['sunny']), list(['rainy']),\n",
       "       list(['sunny']), list(['overcast']), list(['overcast']),\n",
       "       list(['rainy'])], dtype=object)"
      ]
     },
     "execution_count": 17,
     "metadata": {},
     "output_type": "execute_result"
    }
   ],
   "source": [
    "dataset_array[:,0]"
   ]
  },
  {
   "cell_type": "code",
   "execution_count": null,
   "metadata": {},
   "outputs": [],
   "source": [
    "for ite in dataset_array[:,0] :\n",
    "    if "
   ]
  }
 ],
 "metadata": {
  "kernelspec": {
   "display_name": "Python 3",
   "language": "python",
   "name": "python3"
  },
  "language_info": {
   "codemirror_mode": {
    "name": "ipython",
    "version": 3
   },
   "file_extension": ".py",
   "mimetype": "text/x-python",
   "name": "python",
   "nbconvert_exporter": "python",
   "pygments_lexer": "ipython3",
   "version": "3.5.5"
  }
 },
 "nbformat": 4,
 "nbformat_minor": 2
}
