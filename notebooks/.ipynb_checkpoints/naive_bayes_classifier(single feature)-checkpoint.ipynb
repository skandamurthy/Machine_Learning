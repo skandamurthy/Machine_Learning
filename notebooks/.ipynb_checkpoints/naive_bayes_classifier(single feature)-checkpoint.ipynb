{
 "cells": [
  {
   "cell_type": "code",
   "execution_count": 7,
   "metadata": {},
   "outputs": [],
   "source": [
    "import numpy as np\n",
    "from sklearn import naive_bayes as nb"
   ]
  },
  {
   "cell_type": "code",
   "execution_count": 8,
   "metadata": {},
   "outputs": [],
   "source": [
    "dataset = [[['sunny'],'No'],\n",
    "          [['overcast'],'Yes'],\n",
    "          [['rainy'],'yes'],\n",
    "          [['sunny'],'Yes'],\n",
    "          [['sunny'],'Yes'],\n",
    "          [['overcast'],'Yes'],\n",
    "          [['rainy'],'No'],\n",
    "          [['rainy'],'No'],\n",
    "          [['sunny'],'Yes'],\n",
    "          [['rainy'],'Yes'],\n",
    "          [['sunny'],'No'],\n",
    "          [['overcast'],'Yes'],\n",
    "          [['overcast'],'Yes'],\n",
    "          [['rainy'],'No']]"
   ]
  },
  {
   "cell_type": "code",
   "execution_count": 9,
   "metadata": {},
   "outputs": [],
   "source": [
    "dataset_array = np.asarray(dataset)"
   ]
  },
  {
   "cell_type": "code",
   "execution_count": null,
   "metadata": {},
   "outputs": [],
   "source": [
    "weather_forecast = ['sunny','rainy','overcast']\n",
    "play = ['No','Yes']"
   ]
  }
 ],
 "metadata": {
  "kernelspec": {
   "display_name": "Python 3",
   "language": "python",
   "name": "python3"
  },
  "language_info": {
   "codemirror_mode": {
    "name": "ipython",
    "version": 3
   },
   "file_extension": ".py",
   "mimetype": "text/x-python",
   "name": "python",
   "nbconvert_exporter": "python",
   "pygments_lexer": "ipython3",
   "version": "3.5.5"
  }
 },
 "nbformat": 4,
 "nbformat_minor": 2
}
