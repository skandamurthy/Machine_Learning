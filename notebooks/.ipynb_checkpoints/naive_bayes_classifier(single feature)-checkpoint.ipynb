{
 "cells": [
  {
   "cell_type": "code",
   "execution_count": 49,
   "metadata": {},
   "outputs": [],
   "source": [
    "import numpy as np\n",
    "from sklearn import naive_bayes as nb\n",
    "import pandas as pd\n",
    "from modules.factorization import factorization"
   ]
  },
  {
   "cell_type": "code",
   "execution_count": 2,
   "metadata": {},
   "outputs": [],
   "source": [
    "dataset = [[['sunny'],'No'],\n",
    "          [['overcast'],'Yes'],\n",
    "          [['rainy'],'yes'],\n",
    "          [['sunny'],'Yes'],\n",
    "          [['sunny'],'Yes'],\n",
    "          [['overcast'],'Yes'],\n",
    "          [['rainy'],'No'],\n",
    "          [['rainy'],'No'],\n",
    "          [['sunny'],'Yes'],\n",
    "          [['rainy'],'Yes'],\n",
    "          [['sunny'],'No'],\n",
    "          [['overcast'],'Yes'],\n",
    "          [['overcast'],'Yes'],\n",
    "          [['rainy'],'No']]"
   ]
  },
  {
   "cell_type": "code",
   "execution_count": 3,
   "metadata": {},
   "outputs": [],
   "source": [
    "dataset_array = np.asarray(dataset)"
   ]
  },
  {
   "cell_type": "code",
   "execution_count": 4,
   "metadata": {},
   "outputs": [],
   "source": [
    "#could use this to factorise our data in pandas only\n",
    "weather_forecast = ['sunny','rainy','overcast']\n",
    "play = ['No','Yes']"
   ]
  },
  {
   "cell_type": "code",
   "execution_count": 5,
   "metadata": {},
   "outputs": [
    {
     "data": {
      "text/plain": [
       "array([list(['sunny']), list(['overcast']), list(['rainy']),\n",
       "       list(['sunny']), list(['sunny']), list(['overcast']),\n",
       "       list(['rainy']), list(['rainy']), list(['sunny']), list(['rainy']),\n",
       "       list(['sunny']), list(['overcast']), list(['overcast']),\n",
       "       list(['rainy'])], dtype=object)"
      ]
     },
     "execution_count": 5,
     "metadata": {},
     "output_type": "execute_result"
    }
   ],
   "source": [
    "dataset_array[:,0]"
   ]
  },
  {
   "cell_type": "code",
   "execution_count": 6,
   "metadata": {},
   "outputs": [
    {
     "name": "stdout",
     "output_type": "stream",
     "text": [
      "<class 'numpy.ndarray'>\n"
     ]
    }
   ],
   "source": [
    "factorised_dataset_feature_list = []\n",
    "for a_list in dataset_array[:,0]:\n",
    "    if a_list[0] == 'sunny':\n",
    "        factorised_dataset_feature_list.append(0)\n",
    "    if a_list[0] == 'rainy':\n",
    "        factorised_dataset_feature_list.append(1)\n",
    "    if a_list[0] == 'overcast':\n",
    "        factorised_dataset_feature_list.append(2)\n",
    "factorised_dataset_feature_array =np.asarray(factorised_dataset_feature_list)\n",
    "print(type(factorised_dataset_feature_array))"
   ]
  },
  {
   "cell_type": "code",
   "execution_count": 7,
   "metadata": {},
   "outputs": [],
   "source": [
    "factorised_dataset_feature_array\n",
    "np.shape(factorised_dataset_feature_array)\n",
    "factorised_dataset_feature_array=np.reshape(factorised_dataset_feature_array,(-1,1))"
   ]
  },
  {
   "cell_type": "code",
   "execution_count": 8,
   "metadata": {},
   "outputs": [],
   "source": [
    "factorised_dataset_label_list = []\n",
    "for a_label in dataset_array[:,1]:\n",
    "    if a_label == 'Yes':\n",
    "        factorised_dataset_label_list.append(1)\n",
    "    else:\n",
    "        factorised_dataset_label_list.append(0)\n",
    "factorised_dataset_label_array = np.asarray(factorised_dataset_label_list)"
   ]
  },
  {
   "cell_type": "code",
   "execution_count": 9,
   "metadata": {},
   "outputs": [
    {
     "data": {
      "text/plain": [
       "array([0, 1, 0, 1, 1, 1, 0, 0, 1, 1, 0, 1, 1, 0])"
      ]
     },
     "execution_count": 9,
     "metadata": {},
     "output_type": "execute_result"
    }
   ],
   "source": [
    "factorised_dataset_label_array"
   ]
  },
  {
   "cell_type": "code",
   "execution_count": 10,
   "metadata": {},
   "outputs": [],
   "source": [
    "gaussian_model = nb.GaussianNB()"
   ]
  },
  {
   "cell_type": "code",
   "execution_count": 11,
   "metadata": {},
   "outputs": [
    {
     "data": {
      "text/plain": [
       "GaussianNB(priors=None)"
      ]
     },
     "execution_count": 11,
     "metadata": {},
     "output_type": "execute_result"
    }
   ],
   "source": [
    "gaussian_model.fit(factorised_dataset_feature_array,factorised_dataset_label_array)\n"
   ]
  },
  {
   "cell_type": "code",
   "execution_count": 12,
   "metadata": {},
   "outputs": [
    {
     "data": {
      "text/plain": [
       "array([[0.53119576, 0.46880424]])"
      ]
     },
     "execution_count": 12,
     "metadata": {},
     "output_type": "execute_result"
    }
   ],
   "source": [
    "gaussian_model.predict_proba(0)"
   ]
  },
  {
   "cell_type": "code",
   "execution_count": 13,
   "metadata": {},
   "outputs": [
    {
     "data": {
      "text/plain": [
       "array([[0.5368512, 0.4631488]])"
      ]
     },
     "execution_count": 13,
     "metadata": {},
     "output_type": "execute_result"
    }
   ],
   "source": [
    "gaussian_model.predict_proba(1)"
   ]
  },
  {
   "cell_type": "code",
   "execution_count": 14,
   "metadata": {},
   "outputs": [
    {
     "data": {
      "text/plain": [
       "array([[0.04046685, 0.95953315]])"
      ]
     },
     "execution_count": 14,
     "metadata": {},
     "output_type": "execute_result"
    }
   ],
   "source": [
    "gaussian_model.predict_proba(2)"
   ]
  },
  {
   "cell_type": "markdown",
   "metadata": {},
   "source": [
    "<h3>Using a general Factorization function\n"
   ]
  },
  {
   "cell_type": "code",
   "execution_count": 24,
   "metadata": {},
   "outputs": [
    {
     "data": {
      "text/plain": [
       "['sunny',\n",
       " 'overcast',\n",
       " 'rainy',\n",
       " 'sunny',\n",
       " 'sunny',\n",
       " 'overcast',\n",
       " 'rainy',\n",
       " 'rainy',\n",
       " 'sunny',\n",
       " 'rainy',\n",
       " 'sunny',\n",
       " 'overcast',\n",
       " 'overcast',\n",
       " 'rainy']"
      ]
     },
     "execution_count": 24,
     "metadata": {},
     "output_type": "execute_result"
    }
   ],
   "source": [
    "temp_list"
   ]
  },
  {
   "cell_type": "code",
   "execution_count": 30,
   "metadata": {},
   "outputs": [
    {
     "data": {
      "text/plain": [
       "({'overcast': 1, 'rainy': 2, 'sunny': 0},\n",
       " [0, 1, 2, 0, 0, 1, 2, 2, 0, 2, 0, 1, 1, 2])"
      ]
     },
     "execution_count": 30,
     "metadata": {},
     "output_type": "execute_result"
    }
   ],
   "source": [
    "factorization(temp_list)"
   ]
  },
  {
   "cell_type": "code",
   "execution_count": 47,
   "metadata": {},
   "outputs": [
    {
     "name": "stdout",
     "output_type": "stream",
     "text": [
      "sunny\n",
      "overcast\n",
      "rainy\n",
      "sunny\n",
      "sunny\n",
      "overcast\n",
      "rainy\n",
      "rainy\n",
      "sunny\n",
      "rainy\n",
      "sunny\n",
      "overcast\n",
      "overcast\n",
      "rainy\n"
     ]
    }
   ],
   "source": [
    "feature_list2 = []\n",
    "for i in range(len(dataset_array)):\n",
    "    print(dataset_array[i][0][0])\n"
   ]
  },
  {
   "cell_type": "code",
   "execution_count": 42,
   "metadata": {},
   "outputs": [],
   "source": [
    "reference_dict1,feature_array1 = factorization(feature_list2)"
   ]
  },
  {
   "cell_type": "code",
   "execution_count": 51,
   "metadata": {},
   "outputs": [
    {
     "data": {
      "text/plain": [
       "[]"
      ]
     },
     "execution_count": 51,
     "metadata": {},
     "output_type": "execute_result"
    }
   ],
   "source": [
    "reference_dict1"
   ]
  },
  {
   "cell_type": "code",
   "execution_count": null,
   "metadata": {},
   "outputs": [],
   "source": []
  }
 ],
 "metadata": {
  "kernelspec": {
   "display_name": "Python 3",
   "language": "python",
   "name": "python3"
  },
  "language_info": {
   "codemirror_mode": {
    "name": "ipython",
    "version": 3
   },
   "file_extension": ".py",
   "mimetype": "text/x-python",
   "name": "python",
   "nbconvert_exporter": "python",
   "pygments_lexer": "ipython3",
   "version": "3.5.5"
  }
 },
 "nbformat": 4,
 "nbformat_minor": 2
}
