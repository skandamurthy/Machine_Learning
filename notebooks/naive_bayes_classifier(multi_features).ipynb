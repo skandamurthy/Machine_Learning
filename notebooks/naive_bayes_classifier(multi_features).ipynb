{
 "cells": [
  {
   "cell_type": "code",
   "execution_count": 2,
   "metadata": {},
   "outputs": [],
   "source": [
    "import numpy as np\n",
    "from sklearn import naive_bayes as nb"
   ]
  },
  {
   "cell_type": "code",
   "execution_count": 3,
   "metadata": {},
   "outputs": [],
   "source": [
    "dataset = [[['sunny','high_humidity'],'No'],\n",
    "          [['overcast','low_humidity'],'Yes'],\n",
    "          [['rainy','low_humidity'],'yes'],\n",
    "          [['sunny','med_humidity'],'Yes'],\n",
    "          [['sunny','low_humidity'],'Yes'],\n",
    "          [['overcast','med_humidity'],'Yes'],\n",
    "          [['rainy','high_humidity'],'No'],\n",
    "          [['rainy','high_humidity'],'No'],\n",
    "          [['sunny','med_humidity'],'Yes'],\n",
    "          [['rainy','low_humidity'],'Yes'],\n",
    "          [['sunny','high_humidity'],'No'],\n",
    "          [['overcast','med_humidity'],'Yes'],\n",
    "          [['overcast','low_humidity'],'Yes'],\n",
    "          [['rainy','high_humidity'],'No']]"
   ]
  },
  {
   "cell_type": "code",
   "execution_count": 4,
   "metadata": {},
   "outputs": [],
   "source": [
    "dataset_array = np.asarray(dataset)"
   ]
  },
  {
   "cell_type": "code",
   "execution_count": 5,
   "metadata": {},
   "outputs": [
    {
     "data": {
      "text/plain": [
       "(2,)"
      ]
     },
     "execution_count": 5,
     "metadata": {},
     "output_type": "execute_result"
    }
   ],
   "source": [
    "np.shape(dataset_array[0][0])"
   ]
  },
  {
   "cell_type": "code",
   "execution_count": 6,
   "metadata": {},
   "outputs": [
    {
     "name": "stdout",
     "output_type": "stream",
     "text": [
      "sunny high_humidity\n",
      "[list(['sunny', 'high_humidity']) list(['overcast', 'low_humidity'])\n",
      " list(['rainy', 'low_humidity']) list(['sunny', 'med_humidity'])\n",
      " list(['sunny', 'low_humidity']) list(['overcast', 'med_humidity'])\n",
      " list(['rainy', 'high_humidity']) list(['rainy', 'high_humidity'])\n",
      " list(['sunny', 'med_humidity']) list(['rainy', 'low_humidity'])\n",
      " list(['sunny', 'high_humidity']) list(['overcast', 'med_humidity'])\n",
      " list(['overcast', 'low_humidity']) list(['rainy', 'high_humidity'])]\n"
     ]
    }
   ],
   "source": [
    "print(dataset_array[0][0][0] , dataset_array[0][0][1])\n",
    "print(dataset_array[:,0])"
   ]
  },
  {
   "cell_type": "code",
   "execution_count": 7,
   "metadata": {},
   "outputs": [],
   "source": [
    "def factorization(lst):\n",
    "    a = b =0\n",
    "    if lst[0] == 'sunny':\n",
    "        a = 0\n",
    "    elif lst[0] == 'rainy':\n",
    "        a = 1\n",
    "    else:\n",
    "        a = 2\n",
    "    if lst[1] == 'low_humidity':\n",
    "        b = 0\n",
    "    elif lst[1] == 'med_humidity':\n",
    "        b = 1\n",
    "    else:\n",
    "        b = 2\n",
    "    return a,b"
   ]
  },
  {
   "cell_type": "code",
   "execution_count": 8,
   "metadata": {},
   "outputs": [],
   "source": [
    "factorized_feature_list = []\n",
    "for feature_list in dataset_array[:,0]:\n",
    "    factorized_feature_list.append(factorization(feature_list))\n",
    "factorized_feature_array = np.asarray(factorized_feature_list)"
   ]
  },
  {
   "cell_type": "code",
   "execution_count": 9,
   "metadata": {},
   "outputs": [],
   "source": [
    "factorized_label_list = []\n",
    "for output_label in dataset_array[:,1]:\n",
    "    if output_label == 'Yes':\n",
    "        factorized_label_list.append(1)\n",
    "    else:\n",
    "        factorized_label_list.append(0)\n",
    "factorized_label_array = np.asarray(factorized_label_list)"
   ]
  },
  {
   "cell_type": "code",
   "execution_count": 10,
   "metadata": {},
   "outputs": [
    {
     "name": "stdout",
     "output_type": "stream",
     "text": [
      "(14, 2)\n",
      "(14,)\n"
     ]
    }
   ],
   "source": [
    "print(str(factorized_feature_array.shape)+\"\\n\" +str(factorized_label_array.shape))"
   ]
  },
  {
   "cell_type": "code",
   "execution_count": 11,
   "metadata": {},
   "outputs": [
    {
     "data": {
      "text/plain": [
       "GaussianNB(priors=None)"
      ]
     },
     "execution_count": 11,
     "metadata": {},
     "output_type": "execute_result"
    }
   ],
   "source": [
    "gaussian_model = nb.GaussianNB()\n",
    "gaussian_model.fit(factorized_feature_array,factorized_label_array)"
   ]
  },
  {
   "cell_type": "code",
   "execution_count": 12,
   "metadata": {},
   "outputs": [
    {
     "data": {
      "text/plain": [
       "array([0])"
      ]
     },
     "execution_count": 12,
     "metadata": {},
     "output_type": "execute_result"
    }
   ],
   "source": [
    "gaussian_model.predict([(1,2)])"
   ]
  },
  {
   "cell_type": "code",
   "execution_count": 13,
   "metadata": {},
   "outputs": [
    {
     "data": {
      "text/plain": [
       "array([0])"
      ]
     },
     "execution_count": 13,
     "metadata": {},
     "output_type": "execute_result"
    }
   ],
   "source": [
    "gaussian_model.predict([(2,2)])"
   ]
  },
  {
   "cell_type": "code",
   "execution_count": 17,
   "metadata": {},
   "outputs": [
    {
     "data": {
      "text/plain": [
       "array([[0.45653287, 0.54346713]])"
      ]
     },
     "execution_count": 17,
     "metadata": {},
     "output_type": "execute_result"
    }
   ],
   "source": [
    "gaussian_model.predict_proba([(0,1)])"
   ]
  },
  {
   "cell_type": "code",
   "execution_count": 15,
   "metadata": {},
   "outputs": [
    {
     "data": {
      "text/plain": [
       "array([[0.03031826, 0.96968174]])"
      ]
     },
     "execution_count": 15,
     "metadata": {},
     "output_type": "execute_result"
    }
   ],
   "source": [
    "gaussian_model.predict_proba([(2,1)])"
   ]
  },
  {
   "cell_type": "code",
   "execution_count": null,
   "metadata": {},
   "outputs": [],
   "source": []
  }
 ],
 "metadata": {
  "kernelspec": {
   "display_name": "Python 3",
   "language": "python",
   "name": "python3"
  },
  "language_info": {
   "codemirror_mode": {
    "name": "ipython",
    "version": 3
   },
   "file_extension": ".py",
   "mimetype": "text/x-python",
   "name": "python",
   "nbconvert_exporter": "python",
   "pygments_lexer": "ipython3",
   "version": "3.5.5"
  }
 },
 "nbformat": 4,
 "nbformat_minor": 2
}
