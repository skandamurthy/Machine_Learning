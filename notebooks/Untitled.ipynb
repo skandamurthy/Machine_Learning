{
 "cells": [
  {
   "cell_type": "code",
   "execution_count": 1,
   "metadata": {},
   "outputs": [],
   "source": [
    "import numpy as np\n",
    "from sklearn import naive_bayes as nb\n",
    "import pickle as pkl"
   ]
  },
  {
   "cell_type": "code",
   "execution_count": 4,
   "metadata": {},
   "outputs": [],
   "source": [
    "infile = open('dataset','rb')\n",
    "dataset_list = pkl.load(infile)\n",
    "infile.close()"
   ]
  },
  {
   "cell_type": "code",
   "execution_count": 14,
   "metadata": {},
   "outputs": [],
   "source": [
    "dataset_array = np.asarray(dataset_list)"
   ]
  },
  {
   "cell_type": "code",
   "execution_count": 20,
   "metadata": {},
   "outputs": [
    {
     "name": "stdout",
     "output_type": "stream",
     "text": [
      "['sunny', 'high_humidity'] No\n",
      "['overcast', 'low_humidity'] Yes\n",
      "['rainy', 'low_humidity'] yes\n",
      "['sunny', 'med_humidity'] Yes\n",
      "['sunny', 'low_humidity'] Yes\n",
      "['overcast', 'med_humidity'] Yes\n",
      "['rainy', 'high_humidity'] No\n",
      "['rainy', 'high_humidity'] No\n",
      "['sunny', 'med_humidity'] Yes\n",
      "['rainy', 'low_humidity'] Yes\n",
      "['sunny', 'high_humidity'] No\n",
      "['overcast', 'med_humidity'] Yes\n",
      "['overcast', 'low_humidity'] Yes\n",
      "['rainy', 'high_humidity'] No\n"
     ]
    }
   ],
   "source": [
    "feature_dataset_feature = []\n"
   ]
  },
  {
   "cell_type": "code",
   "execution_count": null,
   "metadata": {},
   "outputs": [],
   "source": []
  }
 ],
 "metadata": {
  "kernelspec": {
   "display_name": "Python 3",
   "language": "python",
   "name": "python3"
  },
  "language_info": {
   "codemirror_mode": {
    "name": "ipython",
    "version": 3
   },
   "file_extension": ".py",
   "mimetype": "text/x-python",
   "name": "python",
   "nbconvert_exporter": "python",
   "pygments_lexer": "ipython3",
   "version": "3.5.5"
  }
 },
 "nbformat": 4,
 "nbformat_minor": 2
}
